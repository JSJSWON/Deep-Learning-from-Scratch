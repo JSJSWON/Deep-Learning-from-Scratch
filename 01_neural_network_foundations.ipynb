{
 "cells": [
  {
   "cell_type": "code",
   "execution_count": 1,
   "id": "575d70d7",
   "metadata": {},
   "outputs": [
    {
     "name": "stdout",
     "output_type": "stream",
     "text": [
      "['NanumGothicOTF']\n"
     ]
    }
   ],
   "source": [
    "import matplotlib.pyplot as plt\n",
    "import matplotlib\n",
    "import numpy as np\n",
    "from numpy import ndarray\n",
    "%matplotlib inline\n",
    "\n",
    "from typing import Callable\n",
    "from typing import Dict\n",
    "\n",
    "# matplotlib 폰트설정\n",
    "plt.rc('font', family='NanumGothicOTF') # For MacOS\n",
    "matplotlib.rcParams['axes.unicode_minus'] = False\n",
    "print(plt.rcParams['font.family'])"
   ]
  },
  {
   "cell_type": "code",
   "execution_count": 2,
   "id": "bb7de1a8",
   "metadata": {},
   "outputs": [],
   "source": [
    "# 반올림하여 소수점 네 자리까지만 표현\n",
    "np.set_printoptions(precision=4)"
   ]
  },
  {
   "cell_type": "markdown",
   "id": "a510a0e5",
   "metadata": {},
   "source": [
    "# 1. 신경망 기초 1\n",
    "\n",
    "신경망이란 무엇인가?\n",
    "- 신경망은 입력과 출력을 갖는 함수다.\n",
    "- 신경망은 다차원 배열이 흘러가는 계산 그래프다.\n",
    "- 신경망은 여러 개의 층으로 구성되며, 층은 다시 여러 개의 뉴런으로 구성된다.\n",
    "- 신경망은 어떤 함수라도 근사할 수 있는 능력(universal function approximator)이 있으며, 이론적으로 모든 지도 학습 문제를 풀 수 있다.\n",
    "\n",
    "신경망의 기본적인 구성 요소를 다음 세 가지 관점에서 설명함\n",
    "- 수식\n",
    "- 코드\n",
    "- 다이어그램"
   ]
  },
  {
   "cell_type": "markdown",
   "id": "e595f1c1",
   "metadata": {},
   "source": [
    "## 1.1 함수"
   ]
  },
  {
   "cell_type": "markdown",
   "id": "3dc9a733",
   "metadata": {},
   "source": [
    "### 1.1.1 수식\n",
    "\n",
    "$ f_1(x) = x^2 $\n",
    "\n",
    "$ f_2(x) = max(x, 0) $"
   ]
  },
  {
   "cell_type": "markdown",
   "id": "e8c68089",
   "metadata": {},
   "source": [
    "### 1.1.2 다이어그램\n",
    "\n",
    "2차원 평면에 그려지는 그래프\n",
    "\n",
    "입력값 -> 상자 -> 출력값"
   ]
  },
  {
   "cell_type": "markdown",
   "id": "2d25eb40",
   "metadata": {},
   "source": [
    "### 1.1.3 코드"
   ]
  },
  {
   "cell_type": "code",
   "execution_count": 3,
   "id": "7f8514a2",
   "metadata": {
    "scrolled": true
   },
   "outputs": [
    {
     "name": "stdout",
     "output_type": "stream",
     "text": [
      "파이썬 리스트를 사용한 연산:\n",
      "a+b:  [1, 2, 3, 4, 5, 6]\n",
      "파이썬 리스트에 대해 a*b 연산 불가\n",
      "\n",
      "넘파이 배열을 사용한 연산:\n",
      "a+b:  [5 7 9]\n",
      "a*b:  [ 4 10 18]\n"
     ]
    }
   ],
   "source": [
    "# 코드 사용법 #1. 넘파이\n",
    "# 넘파이는 고속 수치 연산 분야에서 널리 사용되는 라이브러리, 내부 대부분이 C 언어로 구현되어 있음\n",
    "# 신경망에서 우리가 다룰 데이터는 모두 다차원 배열(multidimensional array)\n",
    "# 넘파이의 ndarray 클래스를 사용하면 다차원 배열을 직관적이고 효율적으로 다룰 수 있음\n",
    "\n",
    "print('파이썬 리스트를 사용한 연산:')\n",
    "a = [1, 2, 3]\n",
    "b = [4, 5, 6]\n",
    "print('a+b: ', a+b)\n",
    "try:\n",
    "    print(a*b)\n",
    "except TypeError:\n",
    "    print('파이썬 리스트에 대해 a*b 연산 불가')\n",
    "print()\n",
    "print('넘파이 배열을 사용한 연산:')\n",
    "a = np.array(a)\n",
    "b = np.array(b)\n",
    "print('a+b: ', a+b)\n",
    "print('a*b: ', a*b)"
   ]
  },
  {
   "cell_type": "code",
   "execution_count": 4,
   "id": "72a58699",
   "metadata": {},
   "outputs": [
    {
     "name": "stdout",
     "output_type": "stream",
     "text": [
      "a: \n",
      "[[1 2]\n",
      " [3 4]]\n",
      "각 열의 합: [4 6]\n",
      "각 행의 합: [3 7]\n"
     ]
    }
   ],
   "source": [
    "a = np.array([[1, 2],\n",
    "              [3, 4]])\n",
    "print('a: ')\n",
    "print(a)\n",
    "print('각 열의 합:', a.sum(axis=0)) # axis=0: 열\n",
    "print('각 행의 합:', a.sum(axis=1)) # axis=1: 행"
   ]
  },
  {
   "cell_type": "code",
   "execution_count": 5,
   "id": "d3f5dff7",
   "metadata": {},
   "outputs": [
    {
     "name": "stdout",
     "output_type": "stream",
     "text": [
      "a+b:\n",
      " [[11 22 33]\n",
      " [14 25 36]]\n"
     ]
    }
   ],
   "source": [
    "a = np.array([[1, 2, 3],\n",
    "              [4, 5, 6]])\n",
    "\n",
    "b = np.array([10, 20, 30])\n",
    "\n",
    "print('a+b:\\n', a+b)"
   ]
  },
  {
   "cell_type": "code",
   "execution_count": 6,
   "id": "0d21c789",
   "metadata": {},
   "outputs": [
    {
     "name": "stdout",
     "output_type": "stream",
     "text": [
      "3\n",
      "[10 40 90]\n"
     ]
    }
   ],
   "source": [
    "# 코드 사용법 #2. 타입을 확인하는 함수\n",
    "# 함수의 타입 시그니처를 정의하자\n",
    "\n",
    "def f1(x: int, y: int) -> int:\n",
    "    return x+y\n",
    "\n",
    "print(f1(1,2))\n",
    "\n",
    "def f2(x1: ndarray, x2: ndarray) -> ndarray:\n",
    "    return x1*x2\n",
    "\n",
    "a = np.array([1, 2, 3])\n",
    "b = np.array([10, 20, 30])\n",
    "\n",
    "print(f2(a, b))"
   ]
  },
  {
   "cell_type": "code",
   "execution_count": 7,
   "id": "1e6b014d",
   "metadata": {},
   "outputs": [],
   "source": [
    "# 넘파이로 간단한 함수 구현하기\n",
    "\n",
    "def square(x: ndarray) -> ndarray:\n",
    "    return np.power(x, 2) # 각 요솟값 제곱하기\n",
    "\n",
    "def leaky_relu(x: ndarray) -> ndarray:\n",
    "    return np.maximum(0.2 * x, x) # relu에서 음수는 모두 0이 됨 -> 이를 해결하기 위해 음수를 약간 반영하는 leaky relu가 나옴"
   ]
  },
  {
   "cell_type": "markdown",
   "id": "133fec66",
   "metadata": {},
   "source": [
    "## 1.2 도함수"
   ]
  },
  {
   "cell_type": "markdown",
   "id": "dc3e6a72",
   "metadata": {},
   "source": [
    "### 1.2.1 수식\n",
    "\n",
    "$$ \\frac{df}{dx}(a) = \\lim_{\\Delta \\to 0} \\frac{{f \\left( {a + \\Delta } \\right) - f\\left( a - \\Delta \\right)}}{2 * \\Delta } $$"
   ]
  },
  {
   "cell_type": "markdown",
   "id": "9bee5288",
   "metadata": {},
   "source": [
    "### 1.2.1 다이어그램\n",
    "\n",
    "그래프의 두 점을 잇는 직선의 기울기 구하기\n",
    "\n",
    "함수의 입력값 약간 증가 -> 상자 -> 출력값 얼마나 변화?"
   ]
  },
  {
   "cell_type": "markdown",
   "id": "df00b25f",
   "metadata": {},
   "source": [
    "### 1.2.3 코드"
   ]
  },
  {
   "cell_type": "code",
   "execution_count": 8,
   "id": "56da5a39",
   "metadata": {},
   "outputs": [],
   "source": [
    "# Callable[[인자 타입 리스트], 반환 타입]: 함수 인자에 다른 함수를 넘겨 줄 때 사용\n",
    "def deriv(func: Callable[[ndarray], ndarray],\n",
    "         input_: ndarray,\n",
    "         delta: float = 0.001) -> ndarray: # 0.001은 아주 작은 수를 의미\n",
    "    return (func(input_ + delta) - func(input_ - delta)) / (2 * delta)"
   ]
  },
  {
   "cell_type": "code",
   "execution_count": 9,
   "id": "4df1d204",
   "metadata": {},
   "outputs": [
    {
     "data": {
      "text/plain": [
       "3.9999999999995595"
      ]
     },
     "execution_count": 9,
     "metadata": {},
     "output_type": "execute_result"
    }
   ],
   "source": [
    "deriv(square, 2) # f = x^2에서 x=2에서의 도함수값"
   ]
  },
  {
   "cell_type": "markdown",
   "id": "cf9dd8d7",
   "metadata": {},
   "source": [
    "## 1.3 합성함수"
   ]
  },
  {
   "cell_type": "markdown",
   "id": "eba6876a",
   "metadata": {},
   "source": [
    "### 1.3.1 다이어그램\n",
    "\n",
    "입력값 -> f1 -> f2 -> 출력값"
   ]
  },
  {
   "cell_type": "markdown",
   "id": "663d7448",
   "metadata": {},
   "source": [
    "### 1.3.2 수식\n",
    "\n",
    "$$ f_2(f_1(x)) = y $$"
   ]
  },
  {
   "cell_type": "markdown",
   "id": "e426541a",
   "metadata": {},
   "source": [
    "### 1.3.3 코드"
   ]
  },
  {
   "cell_type": "code",
   "execution_count": 10,
   "id": "d7480545",
   "metadata": {},
   "outputs": [],
   "source": [
    "from typing import List # 파이썬 내장 자료 구조 리스트에 대한 타입을 명시(앞에 List라고 써주기 위함)\n",
    "\n",
    "# ndarray를 인자로 받고 ndarray를 반환하는 함수\n",
    "Array_Function = Callable[[ndarray], ndarray]\n",
    "\n",
    "# Chain은 함수의 리스트\n",
    "Chain = List[Array_Function]"
   ]
  },
  {
   "cell_type": "code",
   "execution_count": 11,
   "id": "45257b63",
   "metadata": {},
   "outputs": [],
   "source": [
    "def chain_length_2(chain: Chain,\n",
    "                  x: ndarray) -> ndarray:\n",
    "    assert len(chain) == 2 # 가정 설정문(assert): len(chain) == 2가 False면 AssertError 발생\n",
    "    f1 = chain[0]\n",
    "    f2 = chain[1]\n",
    "    \n",
    "    return f2(f1(x))"
   ]
  },
  {
   "cell_type": "code",
   "execution_count": 12,
   "id": "e775655e",
   "metadata": {},
   "outputs": [
    {
     "data": {
      "text/plain": [
       "25.0"
      ]
     },
     "execution_count": 12,
     "metadata": {},
     "output_type": "execute_result"
    }
   ],
   "source": [
    "fff = [square, leaky_relu]\n",
    "chain_length_2(fff, 5)"
   ]
  },
  {
   "cell_type": "markdown",
   "id": "447edb54",
   "metadata": {},
   "source": [
    "### 1.3.4 두 번째 다이어그램\n",
    "\n",
    "입력값 -> f1f2(합성함수) -> 출력값"
   ]
  },
  {
   "cell_type": "markdown",
   "id": "bfb292b6",
   "metadata": {},
   "source": [
    "## 1.4 연쇄법칙\n",
    "\n",
    "합성함수의 도함수를 계산"
   ]
  },
  {
   "cell_type": "markdown",
   "id": "7289c976",
   "metadata": {},
   "source": [
    "### 1.4.3 코드"
   ]
  },
  {
   "cell_type": "code",
   "execution_count": 13,
   "id": "9465335d",
   "metadata": {},
   "outputs": [],
   "source": [
    "def sigmoid(x: ndarray) -> ndarray:\n",
    "    return 1 / (1 + np.exp(-x))"
   ]
  },
  {
   "cell_type": "code",
   "execution_count": 14,
   "id": "f949ad4d",
   "metadata": {},
   "outputs": [],
   "source": [
    "def chain_deriv_2(chain: Chain,\n",
    "                 input_range: ndarray) -> ndarray:\n",
    "    assert len(chain) == 2\n",
    "    assert input_range.ndim == 1 # input_range는 1차원 ndarray여야 함\n",
    "    \n",
    "    f1 = chain[0]\n",
    "    f2 = chain[1]\n",
    "    \n",
    "    df1dx = deriv(f1, input_range)\n",
    "    \n",
    "    df2du = deriv(f2, f1(input_range))\n",
    "    \n",
    "    return df1dx * df2du"
   ]
  },
  {
   "cell_type": "code",
   "execution_count": 15,
   "id": "e1143c3a",
   "metadata": {},
   "outputs": [],
   "source": [
    "def f(x: ndarray) -> ndarray:\n",
    "    return np.power(x, 2)\n",
    "def g(x: ndarray) -> ndarray:\n",
    "    return np.multiply(x, 3)"
   ]
  },
  {
   "cell_type": "code",
   "execution_count": 16,
   "id": "23ead542",
   "metadata": {},
   "outputs": [
    {
     "data": {
      "text/plain": [
       "array([ 6., 12., 18.])"
      ]
     },
     "execution_count": 16,
     "metadata": {},
     "output_type": "execute_result"
    }
   ],
   "source": [
    "func = [f, g]\n",
    "r = np.array([1,2,3])\n",
    "chain_deriv_2(func, r) # g(f) = 3x^2 -> 도함수 = 6x"
   ]
  },
  {
   "cell_type": "code",
   "execution_count": 18,
   "id": "dd5ed0e7",
   "metadata": {},
   "outputs": [],
   "source": [
    "def plot_chain(ax,\n",
    "               chain: Chain, \n",
    "               input_range: ndarray) -> None:\n",
    "    assert input_range.ndim == 1\n",
    "\n",
    "    output_range = chain_length_2(chain, input_range)\n",
    "    ax.plot(input_range, output_range)"
   ]
  },
  {
   "cell_type": "code",
   "execution_count": 19,
   "id": "f3220711",
   "metadata": {},
   "outputs": [],
   "source": [
    "def plot_chain_deriv(ax,\n",
    "                     chain: Chain,\n",
    "                     input_range: ndarray) -> ndarray:\n",
    "\n",
    "    output_range = chain_deriv_2(chain, input_range)\n",
    "    ax.plot(input_range, output_range)"
   ]
  },
  {
   "cell_type": "code",
   "execution_count": 20,
   "id": "b08df7ec",
   "metadata": {},
   "outputs": [
    {
     "name": "stderr",
     "output_type": "stream",
     "text": [
      "findfont: Font family ['NanumGothicOTF'] not found. Falling back to DejaVu Sans.\n",
      "findfont: Font family ['NanumGothicOTF'] not found. Falling back to DejaVu Sans.\n"
     ]
    },
    {
     "data": {
      "image/png": "[encoded data removed]",
      "text/plain": [
       "<Figure size 1152x576 with 2 Axes>"
      ]
     },
     "metadata": {
      "needs_background": "light"
     },
     "output_type": "display_data"
    }
   ],
   "source": [
    "fig, ax = plt.subplots(1, 2, sharey=True, figsize=(16, 8))  # 2 Rows, 1 Col\n",
    "\n",
    "chain_1 = [f, g]\n",
    "chain_2 = [g, f]\n",
    "\n",
    "PLOT_RANGE = np.arange(-10, 10, 0.01)\n",
    "plot_chain(ax[0], chain_1, PLOT_RANGE)\n",
    "plot_chain_deriv(ax[0], chain_1, PLOT_RANGE)\n",
    "\n",
    "ax[0].legend([\"$h(x)$\", \"$\\\\frac{dh}{dx}$\"])\n",
    "ax[0].set_title(\"Function and derivative for\\n$h(x) = g(f(x))$\")\n",
    "\n",
    "plot_chain(ax[1], chain_2, PLOT_RANGE)\n",
    "plot_chain_deriv(ax[1], chain_2, PLOT_RANGE)\n",
    "ax[1].legend([\"$h(x)$\", \"$\\\\frac{dh}{dx}$\"])\n",
    "ax[1].set_title(\"Function and derivative for\\n$h(x) = f(g(x))$\");\n",
    "\n",
    "# plt.savefig(IMG_FOLDER_PATH + \"08_plot_chain_rule_1.png\");\n",
    "# plt.savefig(PDF_IMG_FOLDER_PATH + \"08_plot_chain_rule_1.pdf\");"
   ]
  },
  {
   "cell_type": "markdown",
   "id": "7a4e1805",
   "metadata": {},
   "source": [
    "## 1.5 조금 더 복잡한 예제\n",
    "\n",
    "함수가 세 개 이상이어도 똑같음"
   ]
  },
  {
   "cell_type": "markdown",
   "id": "963c0231",
   "metadata": {},
   "source": [
    "## 1.6 입력이 두 개 이상인 함수의 합성함수"
   ]
  },
  {
   "cell_type": "markdown",
   "id": "ce44e9a6",
   "metadata": {},
   "source": [
    "### 1.6.3 코드"
   ]
  },
  {
   "cell_type": "code",
   "execution_count": 21,
   "id": "fb4190bb",
   "metadata": {},
   "outputs": [],
   "source": [
    "def multiple_inputs_add(x: ndarray, y: ndarray, sigma: Array_Function) -> float:\n",
    "    assert x.shape == y.shape\n",
    "    \n",
    "    a = x + y\n",
    "    return sigma(a)"
   ]
  },
  {
   "cell_type": "code",
   "execution_count": 22,
   "id": "e0b25d85",
   "metadata": {},
   "outputs": [
    {
     "data": {
      "text/plain": [
       "array([ 121,  484, 1089])"
      ]
     },
     "execution_count": 22,
     "metadata": {},
     "output_type": "execute_result"
    }
   ],
   "source": [
    "a = np.array([1, 2, 3])\n",
    "b = np.array([10, 20, 30])\n",
    "f = lambda e: e**2\n",
    "\n",
    "multiple_inputs_add(a, b, f) # f(a+b)"
   ]
  },
  {
   "cell_type": "markdown",
   "id": "f73cb620",
   "metadata": {},
   "source": [
    "## 1.7 입력이 여러 개인 함수의 도함수"
   ]
  },
  {
   "cell_type": "code",
   "execution_count": 23,
   "id": "5709d898",
   "metadata": {},
   "outputs": [],
   "source": [
    "def multiple_inputs_add_backward(x: ndarray, y: ndarray, sigma: Array_Function) -> float:\n",
    "    a = x + y\n",
    "    \n",
    "    dsda = deriv(sigma, a)\n",
    "\n",
    "    dadx, dady = 1, 1\n",
    "\n",
    "    return dsda * dadx, dsda * dady"
   ]
  },
  {
   "cell_type": "code",
   "execution_count": 24,
   "id": "8e320492",
   "metadata": {},
   "outputs": [
    {
     "data": {
      "text/plain": [
       "(array([22., 44., 66.]), array([22., 44., 66.]))"
      ]
     },
     "execution_count": 24,
     "metadata": {},
     "output_type": "execute_result"
    }
   ],
   "source": [
    "multiple_inputs_add_backward(a, b, f)"
   ]
  },
  {
   "cell_type": "markdown",
   "id": "2ec0487c",
   "metadata": {},
   "source": [
    "편미분(偏微分, 영어: partial derivative)은 다변수 함수의 특정 변수를 제외한 나머지 변수를 상수로 간주하여 미분하는 것이다.\n",
    "\n",
    "$ f = (a+b)^2 $\n",
    "\n",
    "$ \\frac{∂f}{∂a} = 2(a+b)(1+\\frac{∂b}{∂a}) $\n",
    "\n",
    "$ \\frac{∂f}{∂b} = 2(a+b)(\\frac{∂a}{∂b} + 1) $\n",
    "\n",
    "$ \\frac{∂b}{∂a} = 0, \\frac{∂a}{∂b} = 0 $"
   ]
  },
  {
   "cell_type": "markdown",
   "id": "b1dbdc47",
   "metadata": {},
   "source": [
    "## 1.8 여러 개의 벡터 입력을 갖는 함수\n",
    "\n",
    "딥러닝에서는 벡터나 행렬을 입력으로 받는 함수를 주로 다룸\n",
    "\n",
    "$ X = [x_1, x_2, ..., x_n] $"
   ]
  },
  {
   "cell_type": "markdown",
   "id": "a5712238",
   "metadata": {},
   "source": [
    "## 1.9 기존 특징으로 새로운 특징 만들기\n",
    "\n",
    "신경망에서 가장 많이 사용되는 연산은 특징의 가중합(weighted sum)을 구하는 연산임 -> 이 가중합은 특정한 특징의 비중을 늘리거나 줄이는 방법 -> 기존 특징을 조합해 새로운 특징을 만듦\n",
    "\n",
    "### 1.9.1 수식\n",
    "\n",
    "$ W = \\begin{bmatrix} w_{1} \\\\ w_{2} \\\\.\\\\.\\\\.\\\\ w_{n}\\end{bmatrix} $\n",
    "\n",
    "$ N = X \\times W = x_1*w_1 + x_2*w_2 + ... + x_n*w_n $"
   ]
  },
  {
   "cell_type": "markdown",
   "id": "95f53c3a",
   "metadata": {},
   "source": [
    "## *** numpy에서 dot과 matmul\n",
    "\n",
    "- A.shape = (a1, b1, c1)\n",
    "- B.shape = (a2, b2, c2)\n",
    "- (차원, 행, 열)\n",
    "- 결과 = C\n",
    "\n",
    "1. np.dot(A, B)\n",
    "\n",
    "- c1과 b2가 같아야함\n",
    "- C.shape = (a1, b1, a2, c2)\n",
    "- 공식\n",
    "$$ C[i,j,k,m] = np.sum(A[i,j,:] * B[k,:,m]) $$\n",
    "\n",
    "2. np.matmul(A, B)\n",
    "\n",
    "- a1과 a2가 같아야함\n",
    "- c1과 b2가 같아야함\n",
    "- C.shape = (a1, b1, c2)\n",
    "- 공식\n",
    "$$ C[i,j,k] = np.sum(A[i,j,:] * B[i,:,k]) $$\n"
   ]
  },
  {
   "cell_type": "code",
   "execution_count": 25,
   "id": "ff33621c",
   "metadata": {},
   "outputs": [
    {
     "data": {
      "text/plain": [
       "'____aa****'"
      ]
     },
     "execution_count": 25,
     "metadata": {},
     "output_type": "execute_result"
    }
   ],
   "source": [
    "'''{0}aa{1}'''.format('____', '****')"
   ]
  },
  {
   "cell_type": "markdown",
   "id": "d5218da5",
   "metadata": {},
   "source": [
    "### 1.9.3 코드"
   ]
  },
  {
   "cell_type": "code",
   "execution_count": 26,
   "id": "1c9bbd59",
   "metadata": {},
   "outputs": [],
   "source": [
    "# 순방향 계산을 행렬곱으로 계산\n",
    "def matmul_forward(X: ndarray, W: ndarray) -> ndarray:\n",
    "    assert X.shape[1] == W.shape[0]\n",
    "    \n",
    "    # matrix multiplication\n",
    "    N = np.matmul(X, W)\n",
    "\n",
    "    return N"
   ]
  },
  {
   "cell_type": "code",
   "execution_count": 27,
   "id": "859d5994",
   "metadata": {},
   "outputs": [],
   "source": [
    "a = np.arange(1,10,1).reshape(3,3)\n",
    "b = np.arange(1,13,1).reshape(3,4)\n",
    "c = np.arange(1,13,1).reshape(4,3)"
   ]
  },
  {
   "cell_type": "code",
   "execution_count": 28,
   "id": "b6e24691",
   "metadata": {},
   "outputs": [
    {
     "data": {
      "text/plain": [
       "array([[ 38,  44,  50,  56],\n",
       "       [ 83,  98, 113, 128],\n",
       "       [128, 152, 176, 200]])"
      ]
     },
     "execution_count": 28,
     "metadata": {},
     "output_type": "execute_result"
    }
   ],
   "source": [
    "matmul_forward(a,b)"
   ]
  },
  {
   "cell_type": "code",
   "execution_count": 29,
   "id": "71dc8bd0",
   "metadata": {},
   "outputs": [
    {
     "name": "stdout",
     "output_type": "stream",
     "text": [
      "fail\n"
     ]
    }
   ],
   "source": [
    "try:\n",
    "    matmul_forward(a,c)\n",
    "except AssertionError:\n",
    "    print('fail')"
   ]
  },
  {
   "cell_type": "markdown",
   "id": "ef8bb67d",
   "metadata": {},
   "source": [
    "## 1.10 여러 개의 벡터 입력을 갖는 함수의 도함수\n",
    "\n",
    "$ ν(X, W) = N = x_1*w_1 + x_2*w_2 + x_3*w_3 $\n",
    "\n",
    "## $ \\frac{∂ν}{∂X} = \\begin{bmatrix} \\frac{∂ν}{∂x_1} & \\frac{∂ν}{∂x_2} & \\frac{∂ν}{∂x_3} \\end{bmatrix} = \\begin{bmatrix} w_1 & w_2 & w_3 \\end{bmatrix} = W^T $\n",
    "\n",
    "-> X에 대해 편미분 -> X의 shape으로 나옴 -> W를 transpose해야하겠지\n",
    "\n",
    "전치 행렬(transposed matrix)은 그 행렬을 주대각선을 기준으로 하여 뒤집어 얻을 수 있다.\n",
    "\n",
    "마찬가지로\n",
    "\n",
    "## $ \\frac{∂ν}{∂W} = \\begin{bmatrix} x_1 \\\\ x_2 \\\\ x_3 \\end{bmatrix} = X^T $"
   ]
  },
  {
   "cell_type": "markdown",
   "id": "e6498b0f",
   "metadata": {},
   "source": [
    "### 1.10.3 코드"
   ]
  },
  {
   "cell_type": "code",
   "execution_count": 30,
   "id": "7549c361",
   "metadata": {},
   "outputs": [],
   "source": [
    "def matmul_backward_first(X: ndarray, W: ndarray) -> ndarray:\n",
    "    dNdX = np.transpose(W, (1, 0))\n",
    "    \n",
    "    return dNdX"
   ]
  },
  {
   "cell_type": "markdown",
   "id": "00a1721f",
   "metadata": {},
   "source": [
    "## 1.11 벡터 함수와 도함수\n",
    "\n",
    "### 1.11.3 코드"
   ]
  },
  {
   "cell_type": "code",
   "execution_count": 31,
   "id": "cd65c0d8",
   "metadata": {},
   "outputs": [],
   "source": [
    "def matrix_forward_extra(X: ndarray, W: ndarray, sigma: Array_Function) -> ndarray:\n",
    "    # 행렬곱이 포함된 함수와 또 다른 함수의 합성함수에 대한 순방향 계산을 수행\n",
    "    \n",
    "    assert X.shape[1] == W.shape[0]\n",
    "    \n",
    "    # 행렬곱\n",
    "    N = np.matmul(X, W)\n",
    "    \n",
    "    # 행렬곱의 출력을 함수 sigma의 입력값으로 전달\n",
    "    S = sigma(N)\n",
    "    \n",
    "    return S"
   ]
  },
  {
   "cell_type": "code",
   "execution_count": 32,
   "id": "2dff98dc",
   "metadata": {},
   "outputs": [
    {
     "data": {
      "text/plain": [
       "array([[ 1444,  1936,  2500,  3136],\n",
       "       [ 6889,  9604, 12769, 16384],\n",
       "       [16384, 23104, 30976, 40000]])"
      ]
     },
     "execution_count": 32,
     "metadata": {},
     "output_type": "execute_result"
    }
   ],
   "source": [
    "a = np.arange(1,10,1).reshape(3,3)\n",
    "b = np.arange(1,13,1).reshape(3,4)\n",
    "f = lambda x: x**2\n",
    "# f(a·b)\n",
    "matrix_forward_extra(a, b, f)"
   ]
  },
  {
   "cell_type": "markdown",
   "id": "9b641435",
   "metadata": {},
   "source": [
    "### 1.11.4 역방향 계산"
   ]
  },
  {
   "cell_type": "code",
   "execution_count": 33,
   "id": "a895f411",
   "metadata": {},
   "outputs": [],
   "source": [
    "# 코드\n",
    "\n",
    "def matrix_function_backward_1(X: ndarray,\n",
    "                               W: ndarray,\n",
    "                               sigma: Array_Function) -> ndarray:\n",
    "    '''\n",
    "    Computes the derivative of our matrix function with respect to\n",
    "    the first element.\n",
    "    '''\n",
    "    assert X.shape[1] == W.shape[0]\n",
    "\n",
    "    # matrix multiplication\n",
    "    N = np.dot(X, W)\n",
    "\n",
    "    # feeding the output of the matrix multiplication through sigma\n",
    "    S = sigma(N)\n",
    "\n",
    "    # backward calculation\n",
    "    dSdN = deriv(sigma, N)\n",
    "\n",
    "    # dNdX\n",
    "    dNdX = np.transpose(W, (1, 0))\n",
    "\n",
    "    # multiply them together; since dNdX is 1x1 here, order doesn't matter\n",
    "    return np.dot(dSdN, dNdX)"
   ]
  },
  {
   "cell_type": "code",
   "execution_count": 34,
   "id": "824a1831",
   "metadata": {},
   "outputs": [
    {
     "data": {
      "text/plain": [
       "array([[ 1000.,  2504.,  4008.],\n",
       "       [ 2260.,  5636.,  9012.],\n",
       "       [ 3520.,  8768., 14016.]])"
      ]
     },
     "execution_count": 34,
     "metadata": {},
     "output_type": "execute_result"
    }
   ],
   "source": [
    "a = np.arange(1,10,1).reshape(3,3)\n",
    "b = np.arange(1,13,1).reshape(3,4)\n",
    "f = lambda x: x**2\n",
    "\n",
    "# 제곱함수와 점곱함수의 합성함수를 a에 대해 편미분하기\n",
    "matrix_function_backward_1(a, b, f)"
   ]
  },
  {
   "cell_type": "code",
   "execution_count": null,
   "id": "f3c3cfa8",
   "metadata": {},
   "outputs": [],
   "source": []
  }
 ],
 "metadata": {
  "kernelspec": {
   "display_name": "Python 3 (ipykernel)",
   "language": "python",
   "name": "python3"
  },
  "language_info": {
   "codemirror_mode": {
    "name": "ipython",
    "version": 3
   },
   "file_extension": ".py",
   "mimetype": "text/x-python",
   "name": "python",
   "nbconvert_exporter": "python",
   "pygments_lexer": "ipython3",
   "version": "3.9.12"
  }
 },
 "nbformat": 4,
 "nbformat_minor": 5
}
